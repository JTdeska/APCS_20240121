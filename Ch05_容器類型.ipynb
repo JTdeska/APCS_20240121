{
 "cells": [
  {
   "cell_type": "markdown",
   "metadata": {},
   "source": [
    "# 容器類型\n",
    "> 1. 容器是指可以放置0-多個值的記憶體型態\n",
    "> 2. 常見有以下幾種：\n",
    ">       - list/tuple\n",
    ">       - set\n",
    ">       - dict\n",
    "\n",
    "## list / tuple\n",
    "> 1. list：以[]表示，元素類型可混合，也可重覆，每個元素會有index\n",
    "> 2. tuple：以()表示，與list相同，差別在於元素不可修改"
   ]
  },
  {
   "cell_type": "code",
   "execution_count": null,
   "metadata": {},
   "outputs": [],
   "source": [
    "list1=['H','i']\n",
    "tuple1=('H','i')\n",
    "\n",
    "print(tuple1)\n",
    "print(list1)\n",
    "\n",
    "#是否可修改 \n",
    "list1[1]='a'\n",
    "#tuple1[1]='a'\n",
    "print(list1[:])\n",
    "list1[:]=[10,20,30,40]\n",
    "\n",
    "print(tuple1)\n",
    "print(list1)"
   ]
  },
  {
   "cell_type": "markdown",
   "metadata": {},
   "source": [
    "### 操作方式與字串相似，可以指定位置或範圍取值"
   ]
  },
  {
   "cell_type": "code",
   "execution_count": null,
   "metadata": {},
   "outputs": [],
   "source": [
    "list1=['H','e','l','l','o', 'W','o','r','l','d']\n",
    "\n",
    "print(list1[0])\n",
    "print(list1[1])\n",
    "print(list1[-1])\n",
    "print(list1[-3])\n",
    "\n",
    "print(list1[2:])\n",
    "print(list1[:-3])\n",
    "print(list1[3:5])"
   ]
  },
  {
   "cell_type": "code",
   "execution_count": null,
   "metadata": {},
   "outputs": [],
   "source": [
    "score = [60,70,75,90,100]\n",
    "\n",
    "print(score)\n",
    "score[2]=80\n",
    "print(score)\n",
    "\n",
    "del score[2]\n",
    "print(score)\n",
    "del score[1:3]\n",
    "print(score)\n",
    "del score\n",
    "print(score)"
   ]
  },
  {
   "cell_type": "code",
   "execution_count": null,
   "metadata": {},
   "outputs": [],
   "source": []
  },
  {
   "cell_type": "markdown",
   "metadata": {},
   "source": [
    "## set\n",
    "> 1. 以{}表示，\n",
    "> 2. 元素類型可混合，但元素不可重覆，沒有index\n"
   ]
  },
  {
   "cell_type": "code",
   "execution_count": null,
   "metadata": {},
   "outputs": [],
   "source": [
    "set1={10, 12,8,12, 2.35 ,\"ABC\",8,3, 10,70}\n",
    "\n",
    "print(set1)\n",
    "#print(set[1])\n",
    "\n",
    "print(2 in set1)\n",
    "\n",
    "for x in set1:\n",
    "   print(x)"
   ]
  },
  {
   "cell_type": "code",
   "execution_count": null,
   "metadata": {},
   "outputs": [],
   "source": []
  },
  {
   "cell_type": "markdown",
   "metadata": {},
   "source": [
    "## dict \n",
    "> 1. 以{ K:V }表示\n",
    "> 2. 以 key:value 為一組元素\n",
    "> 3. key 的類型可用整數和字串，不可重覆，沒有index\n",
    "> 4. value 的類型可用整數、字串、[]、()、{}等，可重覆"
   ]
  },
  {
   "cell_type": "code",
   "execution_count": null,
   "metadata": {},
   "outputs": [],
   "source": [
    "dict1={'a':100, 'b':200, 'c':300}\n",
    "print(dict1)\n",
    "\n",
    "dict1={'a':200,'b':400,'b':300}\n",
    "print(dict1)\n",
    "\n",
    "print(dict1['a'])#以key取值 \n",
    "print(dict1['b'])\n",
    "#print(dict1['d']) #不存在\n",
    "\n",
    "dict1['k']=950 #若key不存在，則新增/存在則取代\n",
    "print(dict1)\n",
    "\n",
    "dict1['a']=50\n",
    "print(dict1)"
   ]
  },
  {
   "cell_type": "code",
   "execution_count": null,
   "metadata": {},
   "outputs": [],
   "source": []
  }
 ],
 "metadata": {
  "language_info": {
   "name": "python"
  }
 },
 "nbformat": 4,
 "nbformat_minor": 2
}
