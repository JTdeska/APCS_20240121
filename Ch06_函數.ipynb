{
 "cells": [
  {
   "cell_type": "markdown",
   "metadata": {},
   "source": [
    "# 函數 \n",
    "> 1. 函數也稱方法，包含多行程式碼，結構包含：\n",
    ">       - def 方法名(參數)：\n",
    ">       - (縮排)執行內容\n",
    ">       - return 返回值\n",
    "> 2. 不分定義的上下順序，只要有定義即可呼叫 \n",
    "> 3. 定義不代表執行，需要呼叫才是真正的執行\n",
    "> 4. 重覆定義時，以后者為主\n",
    "\n",
    "## 宣告 / 執行\n",
    "1. 函式區塊以 def 開始，後接函式名稱和傳入參數小括號()\n",
    "2. 冒號下一行縮排後就是函式的內容範圍\n",
    "3. 結束縮排即離開函式範圍\n",
    "4. 函式名稱命名規則\n",
    "    1. 大小寫字母、數字或 _，開頭字元不能是數字\n",
    "    2. 不可與內建關鍵字同名，大小寫不同為不同的變數"
   ]
  },
  {
   "cell_type": "code",
   "execution_count": null,
   "metadata": {},
   "outputs": [],
   "source": []
  },
  {
   "cell_type": "markdown",
   "metadata": {},
   "source": [
    "## 參數\n",
    "> 1. 參數種類：一般參數 / 預設值參數 / 不固定數量參數(＊ tuple / ＊＊dict)\n",
    "> 2. 參數有效範圍\n",
    "> 3. 順序：一般參數 > 預設值參數 > 不固定數量參數\n",
    "\n",
    "### 1.一般參數:\n"
   ]
  },
  {
   "cell_type": "code",
   "execution_count": null,
   "metadata": {},
   "outputs": [],
   "source": [
    "def print_sum(a, b):\n",
    "   c = a + b\n",
    "   print(c)\n",
    "   return #無返回值,可省略\n",
    "\n"
   ]
  },
  {
   "cell_type": "markdown",
   "metadata": {},
   "source": [
    "### 2.預設值參數:"
   ]
  },
  {
   "cell_type": "code",
   "execution_count": 2,
   "metadata": {},
   "outputs": [
    {
     "name": "stdout",
     "output_type": "stream",
     "text": [
      "18\n",
      "30\n"
     ]
    }
   ],
   "source": [
    "def get_sum(a, b=3, c=5):\n",
    "   print(a + b + c) \n",
    "\n",
    "def get_sum2(a=1, b=3, c=5):\n",
    "   print(a + b + c) \n",
    "\n",
    "get_sum(10)\n",
    "get_sum(10,15)"
   ]
  },
  {
   "cell_type": "markdown",
   "metadata": {},
   "source": [
    "### 3.不固定數量參數:\n",
    "> 1. 依參數類型分為二種：*代表( )，**代表{ }\n",
    "> 2. 數量可從 0～多"
   ]
  },
  {
   "cell_type": "code",
   "execution_count": null,
   "metadata": {},
   "outputs": [],
   "source": [
    "def f0(*z):\n",
    "   print(z)\n",
    "   \n",
    "def f1(x, y, *z):\n",
    "   print(x, y, z)\n",
    "\n",
    "def f2(x, y, **z):\n",
    "   print(x, y, z)\n",
    "\n",
    "\n"
   ]
  },
  {
   "cell_type": "markdown",
   "metadata": {},
   "source": [
    "## 返回值\n",
    "> 1. 分為二種：有返回值 / 無返回值\n",
    "> 2. 二者的執行方式不同\n",
    "> 3. 有返回值者要在函式的最後一行加上 \"return 返回值\"\n"
   ]
  },
  {
   "cell_type": "code",
   "execution_count": null,
   "metadata": {},
   "outputs": [],
   "source": []
  },
  {
   "cell_type": "code",
   "execution_count": null,
   "metadata": {},
   "outputs": [],
   "source": [
    "def mutifunction(x1, x2):\n",
    "    addresult = x1 + x2\n",
    "    subresult = x1 -x2\n",
    "    mulresult = x1 * x2\n",
    "    divresult = x1 / x2\n",
    "    return addresult, subresult, mulresult, divresult\n",
    "\n",
    "x1 = int(input(\"x1 = \"))\n",
    "x2 = int(input(\"x2 = \"))\n",
    "\n",
    "add, sub, mul, div = mutifunction(x1, x2)\n",
    "\n",
    "print(\"加法結果= \", add)\n",
    "print(\"減法結果= \", sub)\n",
    "print(\"乘法結果= \", mul)\n",
    "print(\"除法結果= \", div)"
   ]
  },
  {
   "cell_type": "code",
   "execution_count": 1,
   "metadata": {},
   "outputs": [
    {
     "name": "stdout",
     "output_type": "stream",
     "text": [
      "54\n",
      "too small\n",
      "too small\n",
      "too small\n",
      "too small\n",
      "too small\n",
      "bingo!\n"
     ]
    }
   ],
   "source": [
    "import random\n",
    "ans=random.randint(1,100)\n",
    "print(ans)\n",
    "def user_in():\n",
    "    a=int(input('請輸入1-100間任意整數:'))\n",
    "    return a\n",
    "def check_ans():\n",
    "    a=user_in()\n",
    "    if(a>ans):\n",
    "        print(\"too big\")\n",
    "        check_ans()\n",
    "    elif(a<ans):\n",
    "        print(\"too small\")\n",
    "        check_ans()\n",
    "    else:\n",
    "        print(\"bingo!\")\n",
    "    return\n",
    "check_ans()"
   ]
  },
  {
   "cell_type": "code",
   "execution_count": null,
   "metadata": {},
   "outputs": [],
   "source": [
    "import random\n",
    "ans = random.randint(1,99) #1-99\n",
    "\n",
    "def keyin():\n",
    "    return int(input('請輸入1-99間任意整數: '))\n",
    "\n",
    "def check():\n",
    "    pass\n",
    "\n",
    "\n",
    "\n",
    "    \n"
   ]
  },
  {
   "cell_type": "markdown",
   "metadata": {},
   "source": [
    "## 函式進階:變數有效範圍\n",
    "> 1. 函式外的變數：全域變數，可讀取，但不可改變\n",
    "> 2. 函式內的變數：區域變數，可讀可改，但函數執行完也會跟著消失\n",
    "> 3. 函式內想修改全域變數時，須加上 <font color=\"red\">global 變數名</font>\n",
    "> 4. 參數傳遞時：\n",
    ">       1. 不可變類型(數字、字串、tuple)：重新賦值，不影響函式外的全域變數\n",
    ">       2. 可變類型(list、dict)：會影響函式外的全域變數"
   ]
  },
  {
   "cell_type": "code",
   "execution_count": null,
   "metadata": {},
   "outputs": [],
   "source": [
    "a = 100\n",
    "b = [10,20,30,40]\n",
    "\n",
    "def KK():\n",
    "   k = 9\n",
    "   \n",
    "def show():\n",
    "   a+=20\n",
    "   b[2]=99 #容器型態自動同步\n",
    "   print(a)\n",
    "   print(b)\n",
    "\n",
    "show()\n",
    "print(a)\n",
    "print(b)\n",
    "#print(k)#無法讀取函數內的參數或變數"
   ]
  },
  {
   "cell_type": "code",
   "execution_count": null,
   "metadata": {},
   "outputs": [],
   "source": [
    "def func(x):\n",
    "   x=10\n",
    "   print(\"func(): x =\", x)\n",
    "   print(\"func(): a =\", a)\n",
    "   return\n",
    "\n",
    "a=5\n",
    "print(\"全域: a =\", a)\n",
    "func(a)\n",
    "print(\"全域: a =\", a)"
   ]
  },
  {
   "cell_type": "code",
   "execution_count": null,
   "metadata": {},
   "outputs": [],
   "source": [
    "def func(thelist):\n",
    "   print(\"func()：\", id(thelist), thelist)\n",
    "   thelist = [1,2,3,4] # 重新指向新 list\n",
    "   print(\"func()：\", id(thelist), thelist)\n",
    "   return\n",
    "\n",
    "mylist = [10,20,30]\n",
    "print(\"全域：\", id(mylist), mylist)\n",
    "func(mylist)\n",
    "print(\"全域：\", id(mylist), mylist)"
   ]
  },
  {
   "cell_type": "markdown",
   "metadata": {},
   "source": [
    "## 函式進階:Lambda 匿名函式\n",
    "> 1. Lambda 代表簡化版的函式，將<font color=\"#3366ff\"> def 函數名(參數)：</font>改成<font color=\"#3366ff\">Lambda 參數：</font>\n",
    "> 2. 只能包含一個運算式(一行程式碼)，自動 return 運算結果\n",
    "> 3. 適用只會使用一次，而且內容簡單的情形\n",
    "> 4. 可搭配：\n",
    ">       1. map(函式, data)：用來轉換資料\n",
    ">       2. filter(函式, data)：用來篩選符合條件的資料\n"
   ]
  },
  {
   "cell_type": "code",
   "execution_count": 3,
   "metadata": {},
   "outputs": [
    {
     "name": "stdout",
     "output_type": "stream",
     "text": [
      "傳統函數處理\n",
      "432\n",
      "匿名函數處理\n",
      "432\n"
     ]
    }
   ],
   "source": [
    "#傳統函數\n",
    "def f(x, y, z):\n",
    "    return x + y + z\n",
    "\n",
    "print(\"傳統函數處理\")\n",
    "print(f(2, 30, 400))\n",
    "\n",
    "#匿名函數\n",
    "f2 = lambda x, y, z: x + y + z\n",
    "\n",
    "print(\"匿名函數處理\")\n",
    "print(f2(2, 30, 400))\n"
   ]
  },
  {
   "cell_type": "code",
   "execution_count": null,
   "metadata": {},
   "outputs": [],
   "source": [
    "# 也可以無參數\n",
    "f3 = lambda : 100\n",
    "print(f3())\n",
    "\n",
    "print(\"----------------------\")\n",
    "f4 = lambda x:x.replace(\"l\",\"*\")\n",
    "print(f4(\"Hello\"))"
   ]
  },
  {
   "cell_type": "code",
   "execution_count": 4,
   "metadata": {},
   "outputs": [
    {
     "name": "stdout",
     "output_type": "stream",
     "text": [
      " W  A Mozart\n",
      "Wolfgangus Theophilus Mozart\n",
      "Wolfgangus W  A\n"
     ]
    }
   ],
   "source": [
    "#適用有預設值的參數\n",
    "mz= lambda a = 'Wolfgangus', b = ' Theophilus', c = ' Mozart': a + b + c\n",
    "print(mz(' W ', ' A'))\n",
    "print(mz())\n",
    "print(mz(b=' W ', c=' A'))"
   ]
  },
  {
   "cell_type": "code",
   "execution_count": null,
   "metadata": {},
   "outputs": [],
   "source": [
    "list1 = [1,2,3,4,5]\n",
    "\n",
    "list2 = map(lambda x : x**2, list1)\n",
    "\n",
    "print(list1)\n",
    "print(list2)#顯示物件狀態\n",
    "print(list(list2))"
   ]
  },
  {
   "cell_type": "code",
   "execution_count": null,
   "metadata": {},
   "outputs": [],
   "source": [
    "ret = filter(lambda x:x >= 100,[100,1000,90,300,50])\n",
    "print(list(ret))\n",
    "\n",
    "print('----------------')\n",
    "a = [1, 2, 3, 4, 5, 6]\n",
    "list7 = filter(lambda x : x % 2 == 0, a)\n",
    "print(list7)\n",
    "print(list(list7))\n",
    "\n",
    "print('----------------')\n",
    "dict8=[{'name':'python','points':10},\n",
    "       {'name':'java','points':8}]\n",
    "list8 = filter(lambda x : x['name'] == 'python', dict8)\n",
    "print(list(list8))"
   ]
  },
  {
   "cell_type": "code",
   "execution_count": null,
   "metadata": {},
   "outputs": [],
   "source": []
  }
 ],
 "metadata": {
  "kernelspec": {
   "display_name": "Python 3",
   "language": "python",
   "name": "python3"
  },
  "language_info": {
   "codemirror_mode": {
    "name": "ipython",
    "version": 3
   },
   "file_extension": ".py",
   "mimetype": "text/x-python",
   "name": "python",
   "nbconvert_exporter": "python",
   "pygments_lexer": "ipython3",
   "version": "3.10.13"
  }
 },
 "nbformat": 4,
 "nbformat_minor": 2
}
