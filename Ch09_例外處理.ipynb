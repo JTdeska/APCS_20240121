{
 "cells": [
  {
   "cell_type": "code",
   "execution_count": 1,
   "metadata": {},
   "outputs": [
    {
     "name": "stdout",
     "output_type": "stream",
     "text": [
      "10.0\n"
     ]
    }
   ],
   "source": [
    "num1 = 10\n",
    "num2 = 1\n",
    "nums = [1, 3, 5, 7, 9]\n",
    "\n",
    "#print(num1 * num3)\n",
    "print(num1 / num2)\n",
    "#print(num1/(num2-1))\n",
    "#print(nums[5])"
   ]
  },
  {
   "cell_type": "code",
   "execution_count": 2,
   "metadata": {},
   "outputs": [
    {
     "name": "stdout",
     "output_type": "stream",
     "text": [
      "Error發生，除以0\n",
      "結束\n"
     ]
    }
   ],
   "source": [
    "num1 = 10\n",
    "num2 = 0\n",
    "nums = [1,3,5,7,9]\n",
    "\n",
    "try:#原本要執行的程式碼\n",
    "   print(num1/num2)\n",
    "   print(num1*num3)\n",
    "   print(nums[100])\n",
    "   print('Hello')\n",
    "   \n",
    "#解決方案    \n",
    "except ZeroDivisionError:\n",
    "   print('Error發生，除以0')\n",
    "except NameError:\n",
    "   print('Error發生，使用沒有宣告過的變數')\n",
    "except IndexError:\n",
    "   print('Error發生，索引值超出範圍')\n",
    "except:#針對其他問題\n",
    "   print('Error發生')\n",
    "   \n",
    "else:#當try沒有出錯時執行此區\n",
    "   print('Error未發生')\n",
    "   \n",
    "finally:#一定會執行\n",
    "   print('結束')"
   ]
  },
  {
   "cell_type": "code",
   "execution_count": 3,
   "metadata": {},
   "outputs": [
    {
     "name": "stdout",
     "output_type": "stream",
     "text": [
      "考試結果: 不及格\n"
     ]
    }
   ],
   "source": [
    "def getResult(s):\n",
    "   if 60<=score<=100:\n",
    "       return '及格'\n",
    "   elif(0<=score<60):\n",
    "       return '不及格'\n",
    "   else:        \n",
    "       raise OverflowError\n",
    "\n",
    "score=int(input('輸入成績:'))\n",
    "try:\n",
    "   res = getResult(score) \n",
    "except OverflowError:\n",
    "   print(\"成績數值錯誤\")\n",
    "else:\n",
    "   print(\"考試結果:\", res)"
   ]
  },
  {
   "cell_type": "code",
   "execution_count": null,
   "metadata": {},
   "outputs": [],
   "source": []
  }
 ],
 "metadata": {
  "kernelspec": {
   "display_name": "Python 3",
   "language": "python",
   "name": "python3"
  },
  "language_info": {
   "codemirror_mode": {
    "name": "ipython",
    "version": 3
   },
   "file_extension": ".py",
   "mimetype": "text/x-python",
   "name": "python",
   "nbconvert_exporter": "python",
   "pygments_lexer": "ipython3",
   "version": "3.11.7"
  }
 },
 "nbformat": 4,
 "nbformat_minor": 2
}
