{
 "cells": [
  {
   "cell_type": "markdown",
   "metadata": {},
   "source": [
    "# 字串 str\n",
    "> 1. 字串可用''或\"\"表示\n",
    "> 2. 字串是字排列的結果，因此可以指定位置讀取搜尋\n",
    "> 3. 字串可依 unicode 字元集的數字編號進行比對排序\n",
    "> 4. 字串有專用的方法，執行完會得到新的字串\n",
    "> 5. 字串有幾種型態：\n",
    ">       - 一般文字\n",
    ">       - 跳脫文字：有特定功能，當成鍵盤某些按鍵(Enter,Tab...)\n",
    ">       - 格式化文字：美化輸出效果，把文字與變數分開"
   ]
  },
  {
   "cell_type": "markdown",
   "metadata": {},
   "source": [
    "### 跳脫文字\n",
    "> 1. \\n: Enter\n",
    "> 2. \\t: Tab"
   ]
  },
  {
   "cell_type": "code",
   "execution_count": null,
   "metadata": {},
   "outputs": [],
   "source": [
    "print(\"Happy\\nDay~\")\n",
    "print(\"Happy\\tDay~\")"
   ]
  },
  {
   "cell_type": "code",
   "execution_count": null,
   "metadata": {},
   "outputs": [],
   "source": [
    "print('This is John's dog')\n",
    "print('\\today\\ is a good day')"
   ]
  },
  {
   "cell_type": "markdown",
   "metadata": {},
   "source": [
    "### 格式化符號：\n",
    "> 1. %s:字串\n",
    "> 2. %d:整數\n",
    "> 3. %f:小數"
   ]
  },
  {
   "cell_type": "code",
   "execution_count": 1,
   "metadata": {},
   "outputs": [
    {
     "name": "stdout",
     "output_type": "stream",
     "text": [
      "商品名= CAKE  ,單價= 85  ,數量= 5  ,折扣后小計= 361.25\n"
     ]
    }
   ],
   "source": [
    "#格式化文字 1: 一定要比對格式正確才會代入\n",
    "name = \"CAKE\"\n",
    "price = 85\n",
    "num = 5\n",
    "dis = 0.85\n",
    "\n",
    "print(\"商品名=\",name,' ,單價=',price,' ,數量=',num,' ,折扣后小計=',price*num*dis)\n",
    "\n"
   ]
  },
  {
   "cell_type": "code",
   "execution_count": 3,
   "metadata": {},
   "outputs": [
    {
     "name": "stdout",
     "output_type": "stream",
     "text": [
      "商品名=CAKE ,單價=85 ,數量=5 ,折扣后小計=361.25\n"
     ]
    }
   ],
   "source": [
    "#格式化文字 2: {}+format()\n",
    "\n",
    "print('商品名={0} ,單價={1} ,數量={2} ,折扣后小計={3}'.format(name, price, num, price*num*dis))\n"
   ]
  },
  {
   "cell_type": "code",
   "execution_count": 5,
   "metadata": {},
   "outputs": [
    {
     "name": "stdout",
     "output_type": "stream",
     "text": [
      "商品名=CAKE ,單價=85 ,數量=5 ,折扣后小計=361.2\n"
     ]
    }
   ],
   "source": [
    "#格式化文字 3:f-string\n",
    "\n",
    "print(f'商品名={name} ,單價={price} ,數量={num} ,折扣后小計={price*num*dis}')\n",
    "\n"
   ]
  },
  {
   "cell_type": "markdown",
   "metadata": {},
   "source": [
    "## 操作方式：指定位置\n",
    "> 1. 使用[]來指定位置，若位置不存在會出錯\n",
    "> 2. []只能指定1個位置\n",
    "> 3. []允許指定正值(左到右)、負值(右到左)"
   ]
  },
  {
   "cell_type": "code",
   "execution_count": null,
   "metadata": {},
   "outputs": [],
   "source": [
    "str1 = \"Hello World\"\n",
    "\n",
    "print(str1)\n",
    "print(str1[2])\n",
    "print(str1[-3])"
   ]
  },
  {
   "cell_type": "markdown",
   "metadata": {},
   "source": [
    "## 操作方式：指定(切片)範圍slice\n",
    "> 1. 使用[ : ]指定範圍的起點和結束點\n",
    "> 2. [ :2]：左側不寫代表0\n",
    "> 3. [0: ]：右側不寫代表最後，有寫則不包含\n",
    "> 4. 指定範圍不存在則空 ''，不會出錯"
   ]
  },
  {
   "cell_type": "code",
   "execution_count": null,
   "metadata": {},
   "outputs": [],
   "source": [
    "print(str1[2:])\n",
    "print(str1[:3])\n",
    "print(str1[1:4])\n",
    "print(str1[-4:-1])\n",
    "print(str1[::-1])"
   ]
  },
  {
   "cell_type": "code",
   "execution_count": null,
   "metadata": {},
   "outputs": [],
   "source": []
  }
 ],
 "metadata": {
  "kernelspec": {
   "display_name": "base",
   "language": "python",
   "name": "python3"
  },
  "language_info": {
   "codemirror_mode": {
    "name": "ipython",
    "version": 3
   },
   "file_extension": ".py",
   "mimetype": "text/x-python",
   "name": "python",
   "nbconvert_exporter": "python",
   "pygments_lexer": "ipython3",
   "version": "3.11.5"
  }
 },
 "nbformat": 4,
 "nbformat_minor": 2
}
