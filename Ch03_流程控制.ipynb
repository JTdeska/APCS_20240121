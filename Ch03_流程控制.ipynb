{
 "cells": [
  {
   "cell_type": "markdown",
   "metadata": {},
   "source": [
    "# 流程控制\n",
    "> 流程控制：控制程式碼執行的順序(有範圍限制)\n",
    "> 1. 循序執行：(預設)指定範圍內由上到下逐行執行\n",
    "> 2. 條件判斷：符合條件才執行一次程式碼\n",
    "> 3. 迴圈：在條件符合下重覆執行程式碼，若不符合則停止\n",
    "\n",
    "## 條件判斷\n",
    "> 1. 單一條件：if\n",
    "> 2. 二選一：if...else\n",
    "> 3. 多選一：if...elif...else"
   ]
  },
  {
   "cell_type": "code",
   "execution_count": null,
   "metadata": {},
   "outputs": [],
   "source": []
  },
  {
   "cell_type": "code",
   "execution_count": null,
   "metadata": {},
   "outputs": [],
   "source": [
    "#練習1:請設計接收二個數字和一個符號(+-*/)，依選擇進行計算\n"
   ]
  },
  {
   "cell_type": "code",
   "execution_count": null,
   "metadata": {},
   "outputs": [],
   "source": [
    "#練習2:請設計接收一個數字(1-12)，判斷屬於哪一個季節\n"
   ]
  },
  {
   "cell_type": "markdown",
   "metadata": {},
   "source": [
    "### 類似二選一的簡化版"
   ]
  },
  {
   "cell_type": "code",
   "execution_count": null,
   "metadata": {},
   "outputs": [],
   "source": [
    "score = int(input('請輸入成績:'))\n",
    "'''\n",
    "#原 if...else語法：\n",
    "if(score>=60):\n",
    "   result='及格'\n",
    "else:\n",
    "   result='不及格'\n",
    "'''\n",
    "result = '及格' if(score>=60) else '不及格'\n",
    "print(score, result) "
   ]
  },
  {
   "cell_type": "markdown",
   "metadata": {},
   "source": [
    "## 迴圈：while\n"
   ]
  },
  {
   "cell_type": "code",
   "execution_count": null,
   "metadata": {},
   "outputs": [],
   "source": []
  },
  {
   "cell_type": "code",
   "execution_count": null,
   "metadata": {},
   "outputs": [],
   "source": [
    "#練習1:猜數字比大小"
   ]
  },
  {
   "cell_type": "code",
   "execution_count": null,
   "metadata": {},
   "outputs": [],
   "source": [
    "#練習2:接收並判斷密碼，限三次機會"
   ]
  },
  {
   "cell_type": "markdown",
   "metadata": {},
   "source": [
    "## 迴圈：for\n"
   ]
  },
  {
   "cell_type": "code",
   "execution_count": null,
   "metadata": {},
   "outputs": [],
   "source": []
  },
  {
   "cell_type": "code",
   "execution_count": null,
   "metadata": {},
   "outputs": [],
   "source": [
    "word = \"Hello\"\n",
    "for c in word:\n",
    "   print(c)\n",
    "print(\"============\")\n",
    "\n",
    "fruits=['Apple','Banana','Cherry']\n",
    "for fruit in fruits:\n",
    "   print(fruit,len(fruit))\n",
    "\n",
    "print(\"============\")\n",
    "listOfTuple=[(1,2),(2,3),(3,4)]\n",
    "\n",
    "for x1,x2 in listOfTuple:\n",
    "\tprint(x1,x2)"
   ]
  },
  {
   "cell_type": "code",
   "execution_count": null,
   "metadata": {},
   "outputs": [],
   "source": [
    "#練習1:利用亂數套件random 產生6個亂數，不可重覆\n"
   ]
  },
  {
   "cell_type": "code",
   "execution_count": null,
   "metadata": {},
   "outputs": [],
   "source": [
    "#練習2:顯示九九乘法表\n"
   ]
  },
  {
   "cell_type": "markdown",
   "metadata": {},
   "source": [
    "### 指定範圍產生整數：range(start, end, step)\n",
    "> 1. range(5)：1個參數時等於 range(0, 5, 1)=> 0,1,2,3,4\n",
    "> 2. range(2，5)：2個參數時等於 range(2, 5, 1)=> 2,3,4\n",
    "> 3. range(0，5，2)：3個參數時等於 range(0, 5, 2)=> 0,2,4\n"
   ]
  },
  {
   "cell_type": "code",
   "execution_count": null,
   "metadata": {},
   "outputs": [],
   "source": []
  },
  {
   "cell_type": "code",
   "execution_count": null,
   "metadata": {},
   "outputs": [],
   "source": [
    "#補充：zip()\n",
    "subjs = ['國語', '數學', '英文']\n",
    "scores = [100, 80, 95]\n",
    "\n",
    "for i in range(len(subjs)):#0,1,2\n",
    "   print(subjs[i],scores[i])\n",
    "\n",
    "print(zip(subjs, scores, [1,2,3]))\n",
    "print(list(zip(subjs, scores, [1,2,3])))\n",
    "\n",
    "for n,s in zip(subjs, scores):\n",
    "   print(n,s)"
   ]
  },
  {
   "cell_type": "markdown",
   "metadata": {},
   "source": [
    "## 中斷執行：break / continue\n",
    "> 1. break：離開執行\n",
    "> 2. continue：跳過本次執行，但不結束整個執行"
   ]
  },
  {
   "cell_type": "code",
   "execution_count": null,
   "metadata": {},
   "outputs": [],
   "source": []
  }
 ],
 "metadata": {
  "language_info": {
   "name": "python"
  }
 },
 "nbformat": 4,
 "nbformat_minor": 2
}
