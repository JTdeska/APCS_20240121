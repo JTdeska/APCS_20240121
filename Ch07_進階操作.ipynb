{
 "cells": [
  {
   "cell_type": "markdown",
   "metadata": {},
   "source": [
    "# Python 內建類型的進階操作\n",
    "本章將對先前學過的類型作進一步操作，包括：\n",
    "> 1. 字串\n",
    "> 2. list / tuple\n",
    "> 3. set\n",
    "> 4. dict"
   ]
  },
  {
   "cell_type": "markdown",
   "metadata": {},
   "source": [
    "### 字串常用方法"
   ]
  },
  {
   "cell_type": "markdown",
   "metadata": {},
   "source": [
    "1. 字串的操作以排列的順序(index)來指定，從 0 開始\n",
    "2. 指定位置不存在時會出錯\n",
    "3. 若使用範圍來取值，一律不出錯"
   ]
  },
  {
   "cell_type": "code",
   "execution_count": 5,
   "metadata": {},
   "outputs": [
    {
     "name": "stdout",
     "output_type": "stream",
     "text": [
      "4615815088 -> Hello!\n"
     ]
    }
   ],
   "source": [
    "greet = \"Hello\"\n",
    "\n",
    "#greet[4]=\"!\"\n",
    "greet += \"!\"\n",
    "print(id(greet), \"->\", greet)"
   ]
  },
  {
   "cell_type": "code",
   "execution_count": 6,
   "metadata": {},
   "outputs": [
    {
     "name": "stdout",
     "output_type": "stream",
     "text": [
      "HelEo!\n",
      "HElEo!\n",
      "2345-3336-6352-5368\n"
     ]
    }
   ],
   "source": [
    "greet = greet[:3]+\"E\"+greet[4:]\n",
    "print(greet)\n",
    "\n",
    "greet = greet.replace(\"e\",\"E\")\n",
    "print(greet)\n",
    "\n",
    "#轉換成：\"2345-3336-****-****\"\n",
    "card = \"2345-3336-6352-5368\"\n",
    "print(card)\n"
   ]
  },
  {
   "cell_type": "code",
   "execution_count": 7,
   "metadata": {},
   "outputs": [
    {
     "name": "stdout",
     "output_type": "stream",
     "text": [
      "2\n",
      "9\n"
     ]
    }
   ],
   "source": [
    "str1 = \"This is his dogs\"\n",
    "search1 = \"is\"\n",
    "print(str1.find(search1))\n",
    "print(str1.rfind(search1))\n",
    "\n"
   ]
  },
  {
   "cell_type": "code",
   "execution_count": 8,
   "metadata": {},
   "outputs": [
    {
     "name": "stdout",
     "output_type": "stream",
     "text": [
      "This is his dogs\n",
      "is出現3次\n",
      "his出現2次\n",
      "this出現0次\n"
     ]
    }
   ],
   "source": [
    "str1 = \"This is his dogs\"\n",
    "print(str1)\n",
    "search1 = \"is\"\n",
    "print(\"%s出現%d次\" %(search1, str1.count(search1)))\n",
    "\n",
    "search2= \"his\"\n",
    "print(\"%s出現%d次\" %(search2, str1.count(search2)))\n",
    "\n",
    "search3=\"this\"\n",
    "print(\"%s出現%d次\" %(search3, str1.count(search3)))"
   ]
  },
  {
   "cell_type": "code",
   "execution_count": 9,
   "metadata": {},
   "outputs": [
    {
     "name": "stdout",
     "output_type": "stream",
     "text": [
      "a-b-c\n",
      "P:y:t:h:o:n\n",
      "['Python', 'Java', 'C', 'C++']\n",
      "['Python', 'Java', 'C-C++']\n"
     ]
    }
   ],
   "source": [
    "str1 = \"-\"\n",
    "str2 = (\"a\", \"b\", \"c\")\n",
    "print(str1.join(str2))\n",
    "\n",
    "str3=\":\".join(\"Python\")\n",
    "print(str3)\n",
    "\n",
    "str4 = \"Python-Java-C-C++\"\n",
    "print(str4.split('-'))\n",
    "print(str4.split('-',2))\n"
   ]
  },
  {
   "cell_type": "code",
   "execution_count": 10,
   "metadata": {},
   "outputs": [
    {
     "name": "stdout",
     "output_type": "stream",
     "text": [
      "True\n",
      "False\n",
      "False\n",
      "True\n",
      "False\n",
      "False\n",
      "False\n"
     ]
    }
   ],
   "source": [
    "str1='Python123'\n",
    "#str1='123'\n",
    "#str1='PYTHON'\n",
    "#str1='   '\n",
    "\n",
    "print(str1.isalnum())#是否只包含字母與數字\n",
    "print(str1.isalpha())#是否只包含字母\n",
    "print(str1.isdigit())#是否只包含數字\n",
    "print(str1.istitle())#是否首字大寫\n",
    "print(str1.isupper())#是否全部大寫\n",
    "print(str1.islower())#是否全部小寫\n",
    "print(str1.isspace())#是否有空白"
   ]
  },
  {
   "cell_type": "code",
   "execution_count": 11,
   "metadata": {},
   "outputs": [
    {
     "name": "stdout",
     "output_type": "stream",
     "text": [
      "Hello, python!\n",
      "HELLO, PYTHON!\n",
      "hello, python!\n",
      "Hello, Python!\n",
      "HELLO, python!\n"
     ]
    }
   ],
   "source": [
    "str1='hello, PYTHON!'\n",
    "print(str1.capitalize())\n",
    "print(str1.upper())\n",
    "print(str1.lower())\n",
    "print(str1.title())\n",
    "print(str1.swapcase())#大小寫互換"
   ]
  },
  {
   "cell_type": "markdown",
   "metadata": {},
   "source": [
    "#### 字串格式化"
   ]
  },
  {
   "cell_type": "code",
   "execution_count": 12,
   "metadata": {},
   "outputs": [
    {
     "name": "stdout",
     "output_type": "stream",
     "text": [
      "小明今年20歲\n",
      "小明身高178公分\n",
      "小明今年20歲\n",
      "小明身高178.5公分\n",
      "小明體重80公斤\n"
     ]
    }
   ],
   "source": [
    "name = \"小明\"\n",
    "age = 20\n",
    "height = 178.5\n",
    "weight = 80\n",
    "\n",
    "print(\"%s今年%d歲\\n%s身高%d公分\" %(name, age, name, height))\n",
    "\n",
    "print(\"{0}今年{1}歲\\n{0}身高{2}公分\\n{0}體重{3}公斤\".format(name, age, height, weight))"
   ]
  },
  {
   "cell_type": "markdown",
   "metadata": {},
   "source": [
    "### list 常用方法\n",
    "https://docs.python.org/zh-tw/3/library/stdtypes.html#sequence-types-list-tuple-range\n",
    "\n",
    "1. 指定位置取值，若位置不存在會出錯\n",
    "2. 以範圍取值，若範圍對應的值不存在不會出錯"
   ]
  },
  {
   "cell_type": "code",
   "execution_count": 13,
   "metadata": {},
   "outputs": [
    {
     "name": "stdout",
     "output_type": "stream",
     "text": [
      "附加之前: ['a', 'b', 'c']\n",
      "附加之前長度 =  3\n",
      "4615973504\n",
      "附加之後: ['a', 'b', 'c', ['def', 2, 'ghij']]\n",
      "附加之後長度 =  4\n",
      "附加元素:  ['def', 2, 'ghij']\n",
      "4615973504\n"
     ]
    }
   ],
   "source": [
    "#增加元素\n",
    "list1= ['a', 'b', 'c']\n",
    "print(\"附加之前:\", list1)\n",
    "print(\"附加之前長度 = \", len(list1))\n",
    "print(id(list1))\n",
    "\n",
    "list1.append([\"def\",2,\"ghij\"])#加到尾端，只能加一個元素\n",
    "print(\"附加之後:\", list1)\n",
    "print(\"附加之後長度 = \", len(list1))\n",
    "print(\"附加元素: \", list1[3])\n",
    "print(id(list1))"
   ]
  },
  {
   "cell_type": "code",
   "execution_count": 14,
   "metadata": {},
   "outputs": [
    {
     "name": "stdout",
     "output_type": "stream",
     "text": [
      "擴展之前: ['a', 'b', 'c']\n",
      "擴展之前長度 =  3\n",
      "擴展之後: ['a', 'b', 'c', 'def', 'ghij']\n",
      "擴展之後長度 =  5\n",
      "擴展元素:  def ghij\n"
     ]
    }
   ],
   "source": [
    "list1= ['a', 'b', 'c']\n",
    "print(\"擴展之前:\", list1)\n",
    "print(\"擴展之前長度 = \", len(list1))\n",
    "\n",
    "list1.extend([\"def\",\"ghij\"])#加到尾端，只能加一個元素，會拆開容器\n",
    "print(\"擴展之後:\", list1)\n",
    "print(\"擴展之後長度 = \", len(list1))\n",
    "print(\"擴展元素: \", list1[3], list1[4])"
   ]
  },
  {
   "cell_type": "code",
   "execution_count": 15,
   "metadata": {},
   "outputs": [
    {
     "name": "stdout",
     "output_type": "stream",
     "text": [
      "插入之前: ['a', 'b', 'c']\n",
      "插入之前長度 =  3\n",
      "插入之後: ['a', ['def', 'ghij'], 'b', 'c']\n",
      "插入之後長度 =  4\n",
      "插入元素:  ['def', 'ghij']\n"
     ]
    }
   ],
   "source": [
    "list1= ['a', 'b', 'c']\n",
    "print(\"插入之前:\", list1)\n",
    "print(\"插入之前長度 = \", len(list1))\n",
    "\n",
    "list1.insert(1, [\"def\",\"ghij\"])#指定加入的位置,位置若不存在則加到最后，類似append\n",
    "print(\"插入之後:\", list1) \n",
    "print(\"插入之後長度 = \", len(list1))\n",
    "print(\"插入元素: \", list1[1])\n"
   ]
  },
  {
   "cell_type": "code",
   "execution_count": 16,
   "metadata": {},
   "outputs": [
    {
     "name": "stdout",
     "output_type": "stream",
     "text": [
      "彈出之前: ['Honda', 'Toyota', 'Ford', 'BMW']\n",
      "彈出之前長度 =  4\n",
      "彈出之後: ['Honda', 'Toyota', 'Ford']\n",
      "彈出之後長度 =  3\n",
      "彈出元素:  BMW\n",
      "彈出之後: ['Honda', 'Ford']\n",
      "彈出之後長度 =  2\n",
      "彈出元素:  Toyota\n"
     ]
    }
   ],
   "source": [
    "#移除元素\n",
    "cars = ['Honda','Toyota','Ford','BMW']     \n",
    "print(\"彈出之前:\", cars)\n",
    "print(\"彈出之前長度 = \", len(cars))\n",
    "popped_car = cars.pop( ) #預設移出最后一個         \n",
    "print(\"彈出之後:\", cars)\n",
    "print(\"彈出之後長度 = \", len(cars))\n",
    "print(\"彈出元素: \", popped_car)\n",
    "\n",
    "popped_car = cars.pop(1) #移出指定位置         \n",
    "print(\"彈出之後:\", cars)\n",
    "print(\"彈出之後長度 = \", len(cars))\n",
    "print(\"彈出元素: \", popped_car) "
   ]
  },
  {
   "cell_type": "code",
   "execution_count": 17,
   "metadata": {},
   "outputs": [
    {
     "name": "stdout",
     "output_type": "stream",
     "text": [
      "移除之前: ['Honda', 'Toyota', 'Toyota', 'Ford', 'Toyota', 'BMW', 'Toyota']\n",
      "移除之前長度 =  7\n"
     ]
    }
   ],
   "source": [
    "cars = ['Honda','Toyota','Toyota','Ford','Toyota','BMW','Toyota']     \n",
    "print(\"移除之前:\", cars)\n",
    "print(\"移除之前長度 = \", len(cars))\n",
    "\n",
    "remove_car = \"Toyota\"\n",
    "cars.remove(remove_car)#移除1個指定元素\n"
   ]
  },
  {
   "cell_type": "code",
   "execution_count": 18,
   "metadata": {},
   "outputs": [],
   "source": [
    "# 練習：移除所有的\"Toyota\" \n",
    "cars = ['Honda','Toyota','Toyota','Ford','Toyota','BMW','Toyota'] \n"
   ]
  },
  {
   "cell_type": "code",
   "execution_count": 19,
   "metadata": {},
   "outputs": [
    {
     "name": "stdout",
     "output_type": "stream",
     "text": [
      "刪除之前: ['Honda', 'Toyota', 'Ford', 'BMW', 'Mazda', 'Benz']\n",
      "刪除之前長度 =  6\n",
      "刪除之後: ['Honda', 'Toyota', 'Ford', 'BMW', 'Benz']\n",
      "刪除之後長度 =  5\n",
      "刪除之後: ['Honda', 'BMW', 'Benz']\n",
      "刪除之後長度 =  3\n"
     ]
    }
   ],
   "source": [
    "cars = ['Honda','Toyota','Ford','BMW','Mazda','Benz']     \n",
    "print(\"刪除之前:\", cars)\n",
    "print(\"刪除之前長度 = \", len(cars))\n",
    "\n",
    "del cars[4]\n",
    "print(\"刪除之後:\", cars)\n",
    "print(\"刪除之後長度 = \", len(cars))\n",
    "\n",
    "del cars[1:3]\n",
    "print(\"刪除之後:\", cars)\n",
    "print(\"刪除之後長度 = \", len(cars)) "
   ]
  },
  {
   "cell_type": "code",
   "execution_count": 20,
   "metadata": {},
   "outputs": [
    {
     "name": "stdout",
     "output_type": "stream",
     "text": [
      "sorted(): [1, 2, 5, 6, 9]\n",
      "[5, 2, 1, 9, 6]\n",
      "---------------\n",
      "排序之前: ['honda', 'BMW', 'Toyota', 'audi']\n",
      "排序之後: ['BMW', 'Toyota', 'audi', 'honda']\n",
      "反向排序: ['honda', 'audi', 'Toyota', 'BMW']\n",
      "長度排序: ['BMW', 'audi', 'honda', 'Toyota']\n",
      "小寫排序: ['audi', 'BMW', 'honda', 'Toyota']\n"
     ]
    }
   ],
   "source": [
    "# 排序 \n",
    "# 注意二個方法執行後，容器是否有變化\n",
    "nums = [5, 2, 1, 9, 6]\n",
    "cars = ['honda','BMW','Toyota','audi']\n",
    "\n",
    "print(\"sorted():\", sorted(nums))\n",
    "print(nums)\n",
    "print(\"---------------\")\n",
    "print(\"排序之前:\", cars)\n",
    "cars.sort()\n",
    "print(\"排序之後:\", cars)\n",
    "cars.sort(reverse=True)#大到小排序\n",
    "print(\"反向排序:\", cars)\n",
    "cars.sort(key=len)#依數量小到大\n",
    "print(\"長度排序:\", cars)\n",
    "cars.sort(key=str.upper)#先轉大寫再小到大\n",
    "print(\"小寫排序:\", cars)"
   ]
  },
  {
   "cell_type": "markdown",
   "metadata": {},
   "source": [
    "### Set常用方法"
   ]
  },
  {
   "cell_type": "code",
   "execution_count": 21,
   "metadata": {},
   "outputs": [
    {
     "name": "stdout",
     "output_type": "stream",
     "text": [
      "admins有2人\n",
      "users有3人\n",
      "Justin是否為admins: True\n",
      "David是否為users: False\n",
      "admins列表:\n",
      "Justin\n",
      "David\n"
     ]
    }
   ],
   "source": [
    "admins={'Justin','David','Justin'}\n",
    "users={'Mary','Nicole','Justin'}\n",
    "\n",
    "print(\"admins有%d人\" %(len(admins)))\n",
    "print(\"users有%d人\" %(len(users)))\n",
    "\n",
    "print(\"Justin是否為admins:\", 'Justin' in admins)\n",
    "print(\"David是否為users:\", 'David' in users)\n",
    "\n",
    "print(\"admins列表:\")\n",
    "for name in admins:\n",
    "   print(name)"
   ]
  },
  {
   "cell_type": "code",
   "execution_count": 22,
   "metadata": {},
   "outputs": [
    {
     "name": "stdout",
     "output_type": "stream",
     "text": [
      "User 集合: {'Justin', 'Nicole', 'Mary'}\n",
      "加入Sean\n",
      "User 集合: {'Sean', 'Justin', 'Nicole', 'Mary'}\n",
      "加入Mary\n",
      "User 集合: {'Sean', 'Justin', 'Nicole', 'Mary'}\n",
      "移除Sean\n",
      "User 集合: {'Justin', 'Nicole', 'Mary'}\n",
      "丟棄Mary\n",
      "User 集合: {'Justin', 'Nicole'}\n",
      "彈出: Justin\n",
      "User 集合: {'Nicole'}\n",
      "清空: None\n",
      "User 集合: set()\n"
     ]
    }
   ],
   "source": [
    "users={'Mary','Nicole','Justin'}\n",
    "print(\"User 集合:\", users)\n",
    "\n",
    "users.add('Sean')\n",
    "print(\"加入Sean\")\n",
    "print(\"User 集合:\", users)\n",
    "users.add('Mary')\n",
    "print(\"加入Mary\")\n",
    "print(\"User 集合:\", users)\n",
    "\n",
    "users.remove('Sean')\n",
    "print(\"移除Sean\")\n",
    "print(\"User 集合:\", users)\n",
    "#users.remove('Sean')#指定元素不存在會出錯\n",
    "\n",
    "users.discard('Mary')\n",
    "print(\"丟棄Mary\")\n",
    "print(\"User 集合:\", users)\n",
    "users.discard('Mary')#指定元素不存在不會出錯\n",
    "\n",
    "popped = users.pop()#預設會彈出第一個\n",
    "print(\"彈出:\", popped)\n",
    "print(\"User 集合:\", users)\n",
    "print(\"清空:\", users.clear())#清空\n",
    "print(\"User 集合:\", users)\n",
    "#users.pop()\n",
    "#print(\"User 集合:\", users)"
   ]
  },
  {
   "cell_type": "code",
   "execution_count": 23,
   "metadata": {},
   "outputs": [
    {
     "name": "stdout",
     "output_type": "stream",
     "text": [
      "交集: {'Justin'}\n",
      "聯集: {'Justin', 'David', 'Nicole', 'Mary'}\n",
      "差集: {'David'}\n",
      "差集: {'Nicole', 'Mary'}\n",
      "對稱差集: {'David', 'Nicole', 'Mary'}\n"
     ]
    }
   ],
   "source": [
    "admins={'Justin','David'}\n",
    "users={'Mary','Nicole','Justin'}\n",
    "\n",
    "#intersect = admins & users\n",
    "intersect = admins.intersection(users)\n",
    "print(\"交集:\", intersect)\n",
    "\n",
    "#union = admins | users\n",
    "union = admins.union(users)\n",
    "print(\"聯集:\", union)\n",
    "\n",
    "#difference1 = admins - users\n",
    "difference1 = admins.difference(users)\n",
    "print(\"差集:\", difference1)\n",
    "#difference2 = users - admins\n",
    "difference2 = users.difference(admins)\n",
    "print(\"差集:\", difference2)\n",
    "\n",
    "#sym_difference = admins ^ users\n",
    "sym_difference = admins.symmetric_difference(users)\n",
    "print(\"對稱差集:\", sym_difference)\n"
   ]
  },
  {
   "cell_type": "markdown",
   "metadata": {},
   "source": [
    "### Dict 常用方法"
   ]
  },
  {
   "cell_type": "code",
   "execution_count": 24,
   "metadata": {},
   "outputs": [
    {
     "name": "stdout",
     "output_type": "stream",
     "text": [
      "{'Ch': 100, 'En': 88, 'Ma': 95}\n",
      "dict_keys(['Ch', 'En', 'Ma'])\n",
      "dict_values([100, 88, 95])\n",
      "dict_items([('Ch', 100), ('En', 88), ('Ma', 95)])\n"
     ]
    }
   ],
   "source": [
    "scores={'Ch':100,'En':80, 'Ma':95, 'En':88}\n",
    "print(scores)\n",
    "print(scores.keys())\n",
    "print(scores.values())\n",
    "print(scores.items())"
   ]
  },
  {
   "cell_type": "code",
   "execution_count": 25,
   "metadata": {},
   "outputs": [
    {
     "name": "stdout",
     "output_type": "stream",
     "text": [
      "{'Ch': 100, 'En': 80, 'Ma': 95}\n",
      "80\n",
      "{'Ch': 100, 'En': 80, 'Ma': 95, 'AA': 68, 'So': 90}\n",
      "{'Ch': 100, 'En': 80, 'Ma': 'N/A', 'AA': 68, 'So': 90}\n"
     ]
    }
   ],
   "source": [
    "scores={'Ch':100,'En':80, 'Ma':95}\n",
    "print(scores)\n",
    "\n",
    "print(scores['En'])#以key找value\n",
    "#print(scores['AA'])#Key不存在則出錯\n",
    "scores['AA']=68#Key不存在會加到尾部/Key存在則更新值\n",
    "\n",
    "add_dic={'So':90}\n",
    "scores.update(add_dic)\n",
    "print(scores)\n",
    "\n",
    "add_dic={'Ma':'N/A'}\n",
    "scores.update(add_dic)\n",
    "print(scores)"
   ]
  },
  {
   "cell_type": "code",
   "execution_count": 26,
   "metadata": {},
   "outputs": [
    {
     "name": "stdout",
     "output_type": "stream",
     "text": [
      "查詢前成績: {'Ch': 100, 'En': 80, 'Ma': 95, 'Na': 90}\n",
      "國語考100分\n",
      "國語考100分\n",
      "英文考N/A分\n",
      "數學考95分\n",
      "社會考N/A分\n",
      "查詢後成績: {'Ch': 100, 'En': 80, 'Na': 90}\n"
     ]
    }
   ],
   "source": [
    "scores={'Ch':100,'En':80, 'Ma':95, 'Na': 90}\n",
    "print(\"查詢前成績:\", scores)\n",
    "\n",
    "ch_score = scores.get('Ch')\n",
    "print('國語考%s分' %ch_score)\n",
    "print('國語考%s分' %scores['Ch'])\n",
    "\n",
    "en_score = scores.get('EN', 'N/A')#若找不到則以'N/A'當結果\n",
    "print('英文考%s分' %en_score)\n",
    "\n",
    "ma_score = scores.pop('Ma', 'N/A')\n",
    "print('數學考%s分' %ma_score)\n",
    "so_score = scores.pop('so', 'N/A')\n",
    "print('社會考%s分' %so_score)\n",
    "\n",
    "print(\"查詢後成績:\", scores)"
   ]
  },
  {
   "cell_type": "code",
   "execution_count": 27,
   "metadata": {},
   "outputs": [
    {
     "name": "stdout",
     "output_type": "stream",
     "text": [
      "查詢前成績: {'Ch': 100, 'En': 80, 'Ma': 95, 'Na': 90}\n",
      "刪除Ch成績: {'En': 80, 'Ma': 95, 'Na': 90}\n",
      "清空成績: {}\n"
     ]
    }
   ],
   "source": [
    "scores={'Ch':100,'En':80, 'Ma':95, 'Na': 90}\n",
    "print(\"查詢前成績:\", scores)\n",
    "\n",
    "del scores['Ch']\n",
    "print(\"刪除Ch成績:\", scores)\n",
    "\n",
    "scores.clear()\n",
    "print(\"清空成績:\", scores)\n",
    "\n",
    "del scores\n",
    "#print(\"刪除變數:\", scores)"
   ]
  },
  {
   "cell_type": "code",
   "execution_count": 28,
   "metadata": {},
   "outputs": [
    {
     "name": "stdout",
     "output_type": "stream",
     "text": [
      "科目排序: ['Ch', 'En', 'Ma']\n",
      "成績排序: [80, 95, 100]\n",
      "科目反向排序: ['Ma', 'En', 'Ch']\n",
      "成績反向排序: [100, 95, 80]\n"
     ]
    }
   ],
   "source": [
    "scores={'Ch':100,'En':80, 'Ma':95}\n",
    "print(\"科目排序:\", sorted(scores))\n",
    "print(\"成績排序:\", sorted(scores.values()))\n",
    "\n",
    "print(\"科目反向排序:\", sorted(scores,reverse = True))\n",
    "print(\"成績反向排序:\", sorted(scores.values(),reverse = True))"
   ]
  },
  {
   "cell_type": "code",
   "execution_count": null,
   "metadata": {},
   "outputs": [],
   "source": []
  }
 ],
 "metadata": {
  "kernelspec": {
   "display_name": "Python 3",
   "language": "python",
   "name": "python3"
  },
  "language_info": {
   "codemirror_mode": {
    "name": "ipython",
    "version": 3
   },
   "file_extension": ".py",
   "mimetype": "text/x-python",
   "name": "python",
   "nbconvert_exporter": "python",
   "pygments_lexer": "ipython3",
   "version": "3.11.7"
  }
 },
 "nbformat": 4,
 "nbformat_minor": 2
}
