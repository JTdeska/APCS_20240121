{
 "cells": [
  {
   "cell_type": "markdown",
   "metadata": {},
   "source": [
    "# 函數進階--模組"
   ]
  },
  {
   "cell_type": "code",
   "execution_count": 1,
   "metadata": {},
   "outputs": [
    {
     "name": "stdout",
     "output_type": "stream",
     "text": [
      "請輸入直角三角形兩邊長:\n",
      "斜邊長: 5.0\n"
     ]
    }
   ],
   "source": [
    "import math\n",
    "\n",
    "print('請輸入直角三角形兩邊長:')\n",
    "x = float(input('底邊長:'))\n",
    "y = float(input('高邊長:'))\n",
    "z = math.sqrt(x**2+y**2)\n",
    "print('斜邊長:', z)"
   ]
  },
  {
   "cell_type": "code",
   "execution_count": 2,
   "metadata": {},
   "outputs": [
    {
     "name": "stdout",
     "output_type": "stream",
     "text": [
      "猜錯了, 答案是 3\n",
      "0.6361245453262602\n"
     ]
    }
   ],
   "source": [
    "import random\n",
    "\n",
    "ans = random.randint(1,5)\n",
    "guess = int(input('請猜一個1~5之間的數: '))\n",
    "if (guess==ans):\n",
    "   print('恭喜猜對了!')\n",
    "else:\n",
    "   print('猜錯了, 答案是', ans)\n",
    "\n",
    "print(random.random())"
   ]
  },
  {
   "cell_type": "code",
   "execution_count": 3,
   "metadata": {},
   "outputs": [
    {
     "name": "stdout",
     "output_type": "stream",
     "text": [
      "['香蕉', '蘋果', '橘子', '西瓜'] 西瓜\n",
      "你的選擇和我相同!\n",
      "['c', 'a', 'e']\n",
      "['蘋果', '香蕉']\n"
     ]
    }
   ],
   "source": [
    "import random\n",
    "\n",
    "fruits = ['香蕉', '蘋果', '橘子', '西瓜']\n",
    "mychoice = random.choice(fruits)\n",
    "print(fruits, mychoice)\n",
    "\n",
    "yourchoice = input('請選擇上列水果: ')\n",
    "if(mychoice==yourchoice):\n",
    "   print('你的選擇和我相同!')\n",
    "else:\n",
    "   print('你的選擇和我不同!我選'+mychoice)\n",
    "\n",
    "c=random.sample('abcdefghij',3) \n",
    "print(c)\n",
    "\n",
    "mychoice2 = random.sample(fruits,2)\n",
    "print(mychoice2)"
   ]
  },
  {
   "cell_type": "code",
   "execution_count": 4,
   "metadata": {},
   "outputs": [
    {
     "name": "stdout",
     "output_type": "stream",
     "text": [
      "1707721893.517668\n",
      "Mon Feb 12 15:11:35 2024\n",
      "time.struct_time(tm_year=2024, tm_mon=2, tm_mday=12, tm_hour=15, tm_min=11, tm_sec=37, tm_wday=0, tm_yday=43, tm_isdst=0)\n",
      "2024 2 12\n"
     ]
    }
   ],
   "source": [
    "import time\n",
    "\n",
    "print(time.time())\n",
    "time.sleep(2)\n",
    "print(time.ctime())\n",
    "time.sleep(2)\n",
    "lt = time.localtime()\n",
    "print(lt)\n",
    "print(lt.tm_year, lt.tm_mon, lt.tm_mday)"
   ]
  },
  {
   "cell_type": "code",
   "execution_count": 5,
   "metadata": {},
   "outputs": [
    {
     "name": "stdout",
     "output_type": "stream",
     "text": [
      "2024-02-12 星期: 1\n",
      "02-12-24. 12 Feb 2024.\n",
      "18225\n"
     ]
    }
   ],
   "source": [
    "from datetime import date\n",
    "\n",
    "now = date.today() # 現在時間\n",
    "print(now, \"星期:\", now.isoweekday())\n",
    "\n",
    "#設定顯示格式      06-09-21. 09 Jun 2021.\n",
    "print(now.strftime('%m-%d-%y. %d %b %Y.'))\n",
    "\n",
    "birthday = date(1974, 3, 21) # 指定日期date物件\n",
    "\n",
    "age = now - birthday\n",
    "print(age.days) # 以天計算年紀"
   ]
  },
  {
   "cell_type": "markdown",
   "metadata": {},
   "source": [
    "#### 自訂模組"
   ]
  },
  {
   "cell_type": "code",
   "execution_count": 7,
   "metadata": {},
   "outputs": [
    {
     "name": "stdout",
     "output_type": "stream",
     "text": [
      "半徑為5公分的圓,面積為78.54平方公分\n"
     ]
    }
   ],
   "source": [
    "# 注意資料夾中要放置 calculator.py 檔案\n",
    "import calculator\n",
    "\n",
    "r = int(input('請輸入圓半徑(公分):'))\n",
    "area = calculator.calcArea(r)\n",
    "\n",
    "print('半徑為%d公分的圓,面積為%.2f平方公分' %(r,area))\n"
   ]
  },
  {
   "cell_type": "code",
   "execution_count": 9,
   "metadata": {},
   "outputs": [
    {
     "name": "stdout",
     "output_type": "stream",
     "text": [
      "攝氏28.00度等於華氏82.40度\n"
     ]
    }
   ],
   "source": [
    "import calculator as temp\n",
    "\n",
    "tc = float(input(\"請輸入攝氏溫度:\"))\n",
    "tf = temp.toFahrenheit(tc)\n",
    "\n",
    "print(\"攝氏%.2f度等於華氏%.2f度\" %(tc,tf))"
   ]
  },
  {
   "cell_type": "code",
   "execution_count": null,
   "metadata": {},
   "outputs": [],
   "source": []
  }
 ],
 "metadata": {
  "kernelspec": {
   "display_name": "Python 3",
   "language": "python",
   "name": "python3"
  },
  "language_info": {
   "codemirror_mode": {
    "name": "ipython",
    "version": 3
   },
   "file_extension": ".py",
   "mimetype": "text/x-python",
   "name": "python",
   "nbconvert_exporter": "python",
   "pygments_lexer": "ipython3",
   "version": "3.11.7"
  }
 },
 "nbformat": 4,
 "nbformat_minor": 2
}
